{
  "nbformat": 4,
  "nbformat_minor": 0,
  "metadata": {
    "colab": {
      "provenance": [],
      "include_colab_link": true
    },
    "kernelspec": {
      "name": "python3",
      "display_name": "Python 3"
    },
    "language_info": {
      "name": "python"
    }
  },
  "cells": [
    {
      "cell_type": "markdown",
      "metadata": {
        "id": "view-in-github",
        "colab_type": "text"
      },
      "source": [
        "<a href=\"https://colab.research.google.com/github/RajKumarRay/Linux/blob/main/Pyspark.ipynb\" target=\"_parent\"><img src=\"https://colab.research.google.com/assets/colab-badge.svg\" alt=\"Open In Colab\"/></a>"
      ]
    },
    {
      "cell_type": "code",
      "execution_count": null,
      "metadata": {
        "id": "-QZYfIfbG5E_"
      },
      "outputs": [],
      "source": [
        "# Install Java 11\n",
        "!apt-get install openjdk-11-jdk-headless -qq > /dev/null\n",
        "\n",
        "# Install PySpark\n",
        "!pip install pyspark -q\n"
      ]
    },
    {
      "cell_type": "code",
      "source": [
        "import os\n",
        "\n",
        "os.environ[\"JAVA_HOME\"] = \"/usr/lib/jvm/java-11-openjdk-amd64\"\n",
        "os.environ[\"PYSPARK_PYTHON\"] = \"/usr/bin/python3\"\n"
      ],
      "metadata": {
        "id": "KvZqjbsPHABb"
      },
      "execution_count": null,
      "outputs": []
    },
    {
      "cell_type": "code",
      "source": [
        "from pyspark.sql import SparkSession\n",
        "\n",
        "# Create Spark session\n",
        "spark = SparkSession.builder \\\n",
        "    .appName(\"Colab PySpark\") \\\n",
        "    .getOrCreate()\n",
        "\n",
        "# Set Spark log level to ERROR (hides INFO/WARN)\n",
        "spark.sparkContext.setLogLevel(\"ERROR\")\n",
        "\n"
      ],
      "metadata": {
        "id": "DrNkfPHHG_-e"
      },
      "execution_count": null,
      "outputs": []
    },
    {
      "cell_type": "code",
      "source": [
        "data = [(\"Raj\", 23), (\"Sriya\", 22), (\"Amit\", 25)]\n",
        "df = spark.createDataFrame(data, [\"Name\", \"Age\"])\n",
        "\n",
        "df.show()\n"
      ],
      "metadata": {
        "colab": {
          "base_uri": "https://localhost:8080/"
        },
        "id": "--uvQb_NG_7w",
        "outputId": "1012c8ae-1e98-4541-9095-d89029c55531"
      },
      "execution_count": null,
      "outputs": [
        {
          "output_type": "stream",
          "name": "stdout",
          "text": [
            "+-----+---+\n",
            "| Name|Age|\n",
            "+-----+---+\n",
            "|  Raj| 23|\n",
            "|Sriya| 22|\n",
            "| Amit| 25|\n",
            "+-----+---+\n",
            "\n"
          ]
        }
      ]
    },
    {
      "cell_type": "code",
      "source": [
        "# Create RDD\n",
        "data = [1, 2, 3, 4, 5]\n",
        "rdd = spark.sparkContext.parallelize(data)\n",
        "\n",
        "# RDD operations\n",
        "squared = rdd.map(lambda x: x**2)\n",
        "print(\"RDD Output:\", squared.collect())\n"
      ],
      "metadata": {
        "colab": {
          "base_uri": "https://localhost:8080/"
        },
        "id": "Ou7kvCOdG_46",
        "outputId": "75d391b4-d8a4-4d30-cd03-011bb892cb2e"
      },
      "execution_count": null,
      "outputs": [
        {
          "output_type": "stream",
          "name": "stdout",
          "text": [
            "RDD Output: [1, 4, 9, 16, 25]\n"
          ]
        }
      ]
    },
    {
      "cell_type": "code",
      "source": [
        "# Create DataFrame\n",
        "data = [(\"Raj\", 23), (\"Sriya\", 22), (\"Amit\", 25)]\n",
        "df = spark.createDataFrame(data, [\"Name\", \"Age\"])\n",
        "\n",
        "# Show DataFrame\n",
        "df.show()\n",
        "\n",
        "# DataFrame operations\n",
        "print(\"Filter Age > 22\")\n",
        "df.filter(df.Age > 22).show()\n"
      ],
      "metadata": {
        "colab": {
          "base_uri": "https://localhost:8080/"
        },
        "id": "Eyg3YIJiG_2P",
        "outputId": "68b84cb7-71db-41cb-869b-b17afc026c64"
      },
      "execution_count": null,
      "outputs": [
        {
          "output_type": "stream",
          "name": "stdout",
          "text": [
            "+-----+---+\n",
            "| Name|Age|\n",
            "+-----+---+\n",
            "|  Raj| 23|\n",
            "|Sriya| 22|\n",
            "| Amit| 25|\n",
            "+-----+---+\n",
            "\n",
            "Filter Age > 22\n",
            "+----+---+\n",
            "|Name|Age|\n",
            "+----+---+\n",
            "| Raj| 23|\n",
            "|Amit| 25|\n",
            "+----+---+\n",
            "\n"
          ]
        }
      ]
    },
    {
      "cell_type": "code",
      "source": [
        "# Register DataFrame as SQL temporary view\n",
        "df.createOrReplaceTempView(\"people\")\n",
        "\n",
        "# SQL Query\n",
        "result = spark.sql(\"SELECT Name, Age FROM people WHERE Age > 22\")\n",
        "result.show()\n"
      ],
      "metadata": {
        "colab": {
          "base_uri": "https://localhost:8080/"
        },
        "id": "VDKhPijTG_zz",
        "outputId": "aae5efce-9ab8-4d15-999c-4142532faa60"
      },
      "execution_count": null,
      "outputs": [
        {
          "output_type": "stream",
          "name": "stdout",
          "text": [
            "+----+---+\n",
            "|Name|Age|\n",
            "+----+---+\n",
            "| Raj| 23|\n",
            "|Amit| 25|\n",
            "+----+---+\n",
            "\n"
          ]
        }
      ]
    },
    {
      "cell_type": "code",
      "source": [
        "df = spark.read.csv(\"/content/menu.csv.txt\", header=False, inferSchema=True)\n",
        "df.show()\n"
      ],
      "metadata": {
        "colab": {
          "base_uri": "https://localhost:8080/"
        },
        "id": "W3aW3skeG_jQ",
        "outputId": "43d8014f-b84d-4e58-fb2c-db6a3493a0c3"
      },
      "execution_count": null,
      "outputs": [
        {
          "output_type": "stream",
          "name": "stdout",
          "text": [
            "+---+---------+-----+----+\n",
            "|_c0|      _c1|  _c2| _c3|\n",
            "+---+---------+-----+----+\n",
            "|  1|    PIZZA|100.0|NULL|\n",
            "|  2|  Chowmin|150.0|NULL|\n",
            "|  3| sandwich|120.0|NULL|\n",
            "|  4|     Dosa|110.0|NULL|\n",
            "|  5|  Biryani| 80.0|NULL|\n",
            "|  6|    Pasta|180.0|NULL|\n",
            "+---+---------+-----+----+\n",
            "\n"
          ]
        }
      ]
    },
    {
      "cell_type": "code",
      "source": [
        "%%writefile L1.sh\n",
        "#!/bin/bash\n",
        "echo \"Starting the loop...\"\n",
        "for i in {1..5}\n",
        "do\n",
        "  echo \"Iteration number $i\"\n",
        "done\n",
        "echo \"Loop finished!\"\n"
      ],
      "metadata": {
        "colab": {
          "base_uri": "https://localhost:8080/"
        },
        "id": "3eduO7y8G8sc",
        "outputId": "1ef52a09-3950-4b21-efa9-186e1b7f88c7"
      },
      "execution_count": null,
      "outputs": [
        {
          "output_type": "stream",
          "name": "stdout",
          "text": [
            "Overwriting L1.sh\n"
          ]
        }
      ]
    },
    {
      "cell_type": "code",
      "source": [
        "!chmod +x L1.sh\n"
      ],
      "metadata": {
        "id": "IZ6Xc-qditbs"
      },
      "execution_count": null,
      "outputs": []
    },
    {
      "cell_type": "code",
      "source": [
        "!./L1.sh\n"
      ],
      "metadata": {
        "colab": {
          "base_uri": "https://localhost:8080/"
        },
        "id": "hH2g28Uhivzd",
        "outputId": "6cb2cbfe-9d95-4da2-eda5-3adedca47a47"
      },
      "execution_count": null,
      "outputs": [
        {
          "output_type": "stream",
          "name": "stdout",
          "text": [
            "Hello from shell script!\n"
          ]
        }
      ]
    },
    {
      "cell_type": "code",
      "source": [
        "!ls /content\n"
      ],
      "metadata": {
        "colab": {
          "base_uri": "https://localhost:8080/"
        },
        "id": "ABl9eBd6ivvo",
        "outputId": "3654743c-70af-4b87-c142-b923881ab527"
      },
      "execution_count": null,
      "outputs": [
        {
          "output_type": "stream",
          "name": "stdout",
          "text": [
            "L1.sh  menu.csv.txt  sales.csv.txt  sample_data\n"
          ]
        }
      ]
    },
    {
      "cell_type": "code",
      "source": [
        "from google.colab import drive\n",
        "drive.mount('/content/drive')"
      ],
      "metadata": {
        "id": "RZxdLy-ynkhp"
      },
      "execution_count": null,
      "outputs": []
    },
    {
      "cell_type": "code",
      "source": [
        "!bash L1.sh\n"
      ],
      "metadata": {
        "colab": {
          "base_uri": "https://localhost:8080/"
        },
        "id": "v0NFbniUivm0",
        "outputId": "06b54f99-0670-4dac-9c1a-45191ba99bb7"
      },
      "execution_count": null,
      "outputs": [
        {
          "output_type": "stream",
          "name": "stdout",
          "text": [
            "Starting the loop...\n",
            "Iteration number 1\n",
            "Iteration number 2\n",
            "Iteration number 3\n",
            "Iteration number 4\n",
            "Iteration number 5\n",
            "Loop finished!\n"
          ]
        }
      ]
    },
    {
      "cell_type": "code",
      "source": [
        "!git clone https://github.com/RajKumarRay/Linux.git"
      ],
      "metadata": {
        "id": "veeYEvvHivju",
        "outputId": "40cb1cf3-b7ae-40f6-f4ad-ff969be0a5da",
        "colab": {
          "base_uri": "https://localhost:8080/"
        }
      },
      "execution_count": 2,
      "outputs": [
        {
          "output_type": "stream",
          "name": "stdout",
          "text": [
            "fatal: destination path 'Linux' already exists and is not an empty directory.\n"
          ]
        }
      ]
    },
    {
      "cell_type": "code",
      "source": [],
      "metadata": {
        "id": "qecfdLUvivg_"
      },
      "execution_count": null,
      "outputs": []
    },
    {
      "cell_type": "code",
      "source": [],
      "metadata": {
        "id": "RsdFJfJqivdx"
      },
      "execution_count": null,
      "outputs": []
    },
    {
      "cell_type": "code",
      "source": [],
      "metadata": {
        "id": "Glx2vRZWiva5"
      },
      "execution_count": null,
      "outputs": []
    },
    {
      "cell_type": "code",
      "source": [],
      "metadata": {
        "id": "Wdrsc7lJivYA"
      },
      "execution_count": null,
      "outputs": []
    },
    {
      "cell_type": "code",
      "source": [],
      "metadata": {
        "id": "9IUFYWFAivSr"
      },
      "execution_count": null,
      "outputs": []
    },
    {
      "cell_type": "code",
      "source": [],
      "metadata": {
        "id": "GrP4ak8EivOF"
      },
      "execution_count": null,
      "outputs": []
    },
    {
      "cell_type": "code",
      "source": [],
      "metadata": {
        "id": "XIpPmkbJivFz"
      },
      "execution_count": null,
      "outputs": []
    }
  ]
}